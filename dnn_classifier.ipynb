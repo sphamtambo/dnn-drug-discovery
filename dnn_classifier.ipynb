{
 "cells": [
  {
   "cell_type": "code",
   "execution_count": 1,
   "id": "5742cebd",
   "metadata": {},
   "outputs": [],
   "source": [
    "import numpy as np\n",
    "import pandas as pd\n",
    "import torch\n",
    "from tqdm import tqdm"
   ]
  },
  {
   "cell_type": "code",
   "execution_count": 2,
   "id": "00f8dc07",
   "metadata": {},
   "outputs": [
    {
     "name": "stdout",
     "output_type": "stream",
     "text": [
      "Using device:  cpu\n",
      "Torch version: 1.12.1+cu102\n"
     ]
    }
   ],
   "source": [
    "# select cpu\n",
    "torch.cuda.is_available = lambda : False\n",
    "device = torch.device('cuda' if torch.cuda.is_available() else 'cpu')\n",
    "print(\"Using device: \", device)\n",
    "if device.type == \"cuba\":\n",
    "    print(torch.cuba.get_device_name(0))\n",
    "    \n",
    "# version\n",
    "print(f\"Torch version: {torch.__version__}\")"
   ]
  },
  {
   "cell_type": "code",
   "execution_count": 2,
   "id": "dc71cad5",
   "metadata": {},
   "outputs": [
    {
     "data": {
      "text/html": [
       "<div>\n",
       "<style scoped>\n",
       "    .dataframe tbody tr th:only-of-type {\n",
       "        vertical-align: middle;\n",
       "    }\n",
       "\n",
       "    .dataframe tbody tr th {\n",
       "        vertical-align: top;\n",
       "    }\n",
       "\n",
       "    .dataframe thead th {\n",
       "        text-align: right;\n",
       "    }\n",
       "</style>\n",
       "<table border=\"1\" class=\"dataframe\">\n",
       "  <thead>\n",
       "    <tr style=\"text-align: right;\">\n",
       "      <th></th>\n",
       "      <th>name</th>\n",
       "      <th>smiles</th>\n",
       "      <th>IC50</th>\n",
       "      <th>units</th>\n",
       "      <th>pIC50</th>\n",
       "      <th>class</th>\n",
       "    </tr>\n",
       "  </thead>\n",
       "  <tbody>\n",
       "    <tr>\n",
       "      <th>2573</th>\n",
       "      <td>CHEMBL433520</td>\n",
       "      <td>CCN(CC)CC(O)CNc1cc2c(Nc3cccc(Br)c3)ncnc2cn1</td>\n",
       "      <td>1100000.0</td>\n",
       "      <td>nM</td>\n",
       "      <td>2.958607</td>\n",
       "      <td>low activity</td>\n",
       "    </tr>\n",
       "    <tr>\n",
       "      <th>2574</th>\n",
       "      <td>CHEMBL477</td>\n",
       "      <td>Nc1ncnc2c1ncn2[C@@H]1O[C@H](CO)[C@@H](O)[C@H]1O</td>\n",
       "      <td>1600000.0</td>\n",
       "      <td>nM</td>\n",
       "      <td>2.795880</td>\n",
       "      <td>low activity</td>\n",
       "    </tr>\n",
       "  </tbody>\n",
       "</table>\n",
       "</div>"
      ],
      "text/plain": [
       "              name                                           smiles  \\\n",
       "2573  CHEMBL433520      CCN(CC)CC(O)CNc1cc2c(Nc3cccc(Br)c3)ncnc2cn1   \n",
       "2574     CHEMBL477  Nc1ncnc2c1ncn2[C@@H]1O[C@H](CO)[C@@H](O)[C@H]1O   \n",
       "\n",
       "           IC50 units     pIC50         class  \n",
       "2573  1100000.0    nM  2.958607  low activity  \n",
       "2574  1600000.0    nM  2.795880  low activity  "
      ]
     },
     "execution_count": 2,
     "metadata": {},
     "output_type": "execute_result"
    }
   ],
   "source": [
    "# data\n",
    "df = pd.read_csv('../../data/her2_molecules.csv')\n",
    "df.tail(2)"
   ]
  },
  {
   "cell_type": "code",
   "execution_count": 4,
   "id": "36489fa8",
   "metadata": {},
   "outputs": [],
   "source": [
    "# molecular fingerprints calc\n",
    "from rdkit import Chem\n",
    "from rdkit.Chem import AllChem\n",
    "\n",
    "def fingerprints(smiles, radius=2, nbits=2048):\n",
    "    fps = []\n",
    "    mols = [Chem.MolFromSmiles(x) for x in smiles]\n",
    "    for m in mols:\n",
    "        fp = np.array(AllChem.GetMorganFingerprintAsBitVect(m, radius=radius, nBits=nbits))\n",
    "        fps.append(fp)\n",
    "    return fps"
   ]
  },
  {
   "cell_type": "code",
   "execution_count": 5,
   "id": "e1b80756",
   "metadata": {},
   "outputs": [],
   "source": [
    "fprints = fingerprints(df['smiles'])"
   ]
  },
  {
   "cell_type": "code",
   "execution_count": 6,
   "id": "1c94c418",
   "metadata": {},
   "outputs": [],
   "source": [
    "# feature encoding\n",
    "from sklearn.preprocessing import LabelEncoder\n",
    "label_encoder = LabelEncoder()\n",
    "\n",
    "#encode y variable to numerical variable\n",
    "label_encoder.fit(df['class'])\n",
    "y = label_encoder.transform(df['class'])"
   ]
  },
  {
   "cell_type": "code",
   "execution_count": 7,
   "id": "2706bac7",
   "metadata": {},
   "outputs": [],
   "source": [
    "# features\n",
    "X = np.array(fprints)\n",
    "y = np.array(y)"
   ]
  },
  {
   "cell_type": "code",
   "execution_count": 8,
   "id": "cacc83cc",
   "metadata": {},
   "outputs": [],
   "source": [
    "# data split\n",
    "from sklearn.model_selection import train_test_split\n",
    "torch.manual_seed(1)\n",
    "np.random.seed(1)\n",
    "\n",
    "X_train, X_test, y_train, y_test = train_test_split(X, y, random_state=1, test_size=0.25) "
   ]
  },
  {
   "cell_type": "code",
   "execution_count": 9,
   "id": "190cb63c",
   "metadata": {},
   "outputs": [],
   "source": [
    "# standardize features\n",
    "X_train_norm = (X_train - np.mean(X_train)) / np.std(X_train)\n",
    "X_test_norm = (X_test - np.mean(X_train)) / np.std(X_train)"
   ]
  },
  {
   "cell_type": "code",
   "execution_count": 25,
   "id": "796d22a2",
   "metadata": {},
   "outputs": [],
   "source": [
    "# Create tensors from arrays\n",
    "X_train_norm = torch.from_numpy(X_train_norm).float()\n",
    "y_train = torch.from_numpy(y_train)\n",
    "\n",
    "X_test_norm = torch.from_numpy(X_test_norm).float()\n",
    "y_test = torch.from_numpy(y_test)"
   ]
  },
  {
   "cell_type": "code",
   "execution_count": 26,
   "id": "272cc7c4",
   "metadata": {},
   "outputs": [],
   "source": [
    "# pytorch dataset and dataloader\n",
    "from torch.utils.data import TensorDataset, DataLoader\n",
    "\n",
    "train_ds = TensorDataset(X_train_norm, y_train)\n",
    "torch.manual_seed(1)\n",
    "batch_size = 10\n",
    "train_dl = DataLoader(train_ds, batch_size, shuffle=True)"
   ]
  },
  {
   "cell_type": "code",
   "execution_count": 41,
   "id": "2113ac23",
   "metadata": {},
   "outputs": [],
   "source": [
    "# model building\n",
    "import torch.nn as nn\n",
    "\n",
    "hidden_units = [100, 50]\n",
    "input_size = X_train.shape[1]\n",
    "all_layers = []\n",
    "for hidden_unit in hidden_units:\n",
    "    layer = nn.Linear(input_size, hidden_unit)\n",
    "    all_layers.append(layer)\n",
    "    all_layers.append(nn.ReLU())\n",
    "    input_size = hidden_unit\n",
    "all_layers.append(nn.Linear(hidden_units[-1], 3))   "
   ]
  },
  {
   "cell_type": "code",
   "execution_count": 42,
   "id": "c2f37cdd",
   "metadata": {},
   "outputs": [
    {
     "data": {
      "text/plain": [
       "Sequential(\n",
       "  (0): Linear(in_features=2048, out_features=100, bias=True)\n",
       "  (1): ReLU()\n",
       "  (2): Linear(in_features=100, out_features=50, bias=True)\n",
       "  (3): ReLU()\n",
       "  (4): Linear(in_features=50, out_features=3, bias=True)\n",
       ")"
      ]
     },
     "execution_count": 42,
     "metadata": {},
     "output_type": "execute_result"
    }
   ],
   "source": [
    "model = nn.Sequential(*all_layers)\n",
    "model"
   ]
  },
  {
   "cell_type": "code",
   "execution_count": 43,
   "id": "a9959101",
   "metadata": {},
   "outputs": [],
   "source": [
    "# loss function\n",
    "loss_fn = nn.CrossEntropyLoss()\n",
    "# optimization\n",
    "optimizer = torch.optim.Adam(model.parameters(), lr=0.001)"
   ]
  },
  {
   "cell_type": "code",
   "execution_count": 55,
   "id": "b8025bb9",
   "metadata": {},
   "outputs": [
    {
     "name": "stdout",
     "output_type": "stream",
     "text": [
      "Epoch 1 Accuracy 0.9907 Loss 0.0226 \n",
      "Epoch 2 Accuracy 0.9902 Loss 0.0176 \n",
      "Epoch 3 Accuracy 0.9922 Loss 0.0159 \n",
      "Epoch 4 Accuracy 0.9927 Loss 0.0165 \n",
      "Epoch 5 Accuracy 0.9907 Loss 0.0285 \n",
      "Epoch 6 Accuracy 0.9917 Loss 0.0145 \n",
      "Epoch 7 Accuracy 0.9917 Loss 0.0165 \n",
      "Epoch 8 Accuracy 0.9938 Loss 0.0101 \n",
      "Epoch 9 Accuracy 0.9948 Loss 0.0086 \n",
      "Epoch 10 Accuracy 0.9917 Loss 0.0123 \n",
      "Epoch 11 Accuracy 0.9938 Loss 0.0098 \n",
      "Epoch 12 Accuracy 0.9943 Loss 0.0083 \n",
      "Epoch 13 Accuracy 0.9922 Loss 0.0086 \n",
      "Epoch 14 Accuracy 0.9943 Loss 0.0082 \n",
      "Epoch 15 Accuracy 0.9943 Loss 0.0086 \n",
      "Epoch 16 Accuracy 0.9933 Loss 0.0122 \n",
      "Epoch 17 Accuracy 0.9803 Loss 0.0753 \n",
      "Epoch 18 Accuracy 0.9855 Loss 0.0331 \n",
      "Epoch 19 Accuracy 0.9860 Loss 0.0290 \n",
      "Epoch 20 Accuracy 0.9907 Loss 0.0283 \n",
      "Epoch 21 Accuracy 0.9896 Loss 0.0230 \n",
      "Epoch 22 Accuracy 0.9917 Loss 0.0206 \n",
      "Epoch 23 Accuracy 0.9886 Loss 0.0271 \n",
      "Epoch 24 Accuracy 0.9907 Loss 0.0189 \n",
      "Epoch 25 Accuracy 0.9902 Loss 0.0263 \n",
      "Epoch 26 Accuracy 0.9855 Loss 0.0342 \n",
      "Epoch 27 Accuracy 0.9927 Loss 0.0223 \n",
      "Epoch 28 Accuracy 0.9938 Loss 0.0139 \n",
      "Epoch 29 Accuracy 0.9933 Loss 0.0138 \n",
      "Epoch 30 Accuracy 0.9948 Loss 0.0092 \n",
      "Epoch 31 Accuracy 0.9943 Loss 0.0089 \n",
      "Epoch 32 Accuracy 0.9938 Loss 0.0093 \n",
      "Epoch 33 Accuracy 0.9933 Loss 0.0084 \n",
      "Epoch 34 Accuracy 0.9927 Loss 0.0079 \n",
      "Epoch 35 Accuracy 0.9938 Loss 0.0077 \n",
      "Epoch 36 Accuracy 0.9938 Loss 0.0076 \n",
      "Epoch 37 Accuracy 0.9943 Loss 0.0081 \n",
      "Epoch 38 Accuracy 0.9943 Loss 0.0114 \n",
      "Epoch 39 Accuracy 0.9943 Loss 0.0094 \n",
      "Epoch 40 Accuracy 0.9850 Loss 0.0445 \n",
      "Epoch 41 Accuracy 0.9891 Loss 0.0355 \n",
      "Epoch 42 Accuracy 0.9871 Loss 0.0356 \n",
      "Epoch 43 Accuracy 0.9871 Loss 0.0331 \n",
      "Epoch 44 Accuracy 0.9917 Loss 0.0232 \n",
      "Epoch 45 Accuracy 0.9912 Loss 0.0162 \n",
      "Epoch 46 Accuracy 0.9922 Loss 0.0109 \n",
      "Epoch 47 Accuracy 0.9943 Loss 0.0109 \n",
      "Epoch 48 Accuracy 0.9938 Loss 0.0113 \n",
      "Epoch 49 Accuracy 0.9943 Loss 0.0080 \n",
      "Epoch 50 Accuracy 0.9927 Loss 0.0081 \n"
     ]
    }
   ],
   "source": [
    "# model training\n",
    "torch.manual_seed(1)\n",
    "num_epochs = 50\n",
    "\n",
    "for epoch in range(num_epochs):\n",
    "    accuracy_hist_train = 0\n",
    "    loss_hist_train = 0\n",
    "    for x_batch, y_batch in train_dl:\n",
    "        pred = model(x_batch)\n",
    "        loss = loss_fn(pred, y_batch)\n",
    "        loss.backward()\n",
    "        optimizer.step()\n",
    "        optimizer.zero_grad()\n",
    "        loss_hist_train += loss.item() * y_batch.size(0)\n",
    "        is_correct = (torch.argmax(pred, dim=1) == y_batch).float()\n",
    "        accuracy_hist_train += is_correct.sum()\n",
    "    accuracy_hist_train /= len(train_dl.dataset)\n",
    "    loss_hist_train /= len(train_dl.dataset)\n",
    "    print(f\"Epoch {epoch + 1} \"\n",
    "          f\"Accuracy {accuracy_hist_train:.4f} \"\n",
    "          f\"Loss {loss_hist_train:.4f} \")"
   ]
  },
  {
   "cell_type": "code",
   "execution_count": 61,
   "id": "55c3ff37",
   "metadata": {},
   "outputs": [
    {
     "name": "stdout",
     "output_type": "stream",
     "text": [
      "Average Loss: 0.0081 \n",
      "Train Accuracy: 99.2750%\n"
     ]
    }
   ],
   "source": [
    "print(f\"Average Loss: {np.mean(loss_hist_train):.4f} \\\n",
    "        \\nTrain Accuracy: {100 * accuracy_hist_train.mean():.4f}%\")"
   ]
  },
  {
   "cell_type": "code",
   "execution_count": 53,
   "id": "afbaa832",
   "metadata": {},
   "outputs": [
    {
     "name": "stdout",
     "output_type": "stream",
     "text": [
      "Test Accuracy: 80.7453%\n"
     ]
    }
   ],
   "source": [
    "# model evaluation of test dataset\n",
    "pred_test = model(X_test_norm)\n",
    "correct = (torch.argmax(pred_test,dim=1) == y_test).float()\n",
    "print(f\"Test Accuracy: {100 * correct.mean():.4f}%\")"
   ]
  },
  {
   "cell_type": "code",
   "execution_count": null,
   "id": "ad9edfa6",
   "metadata": {},
   "outputs": [],
   "source": []
  },
  {
   "cell_type": "code",
   "execution_count": null,
   "id": "3436ca88",
   "metadata": {},
   "outputs": [],
   "source": []
  }
 ],
 "metadata": {
  "kernelspec": {
   "display_name": "Python 3 (ipykernel)",
   "language": "python",
   "name": "python3"
  },
  "language_info": {
   "codemirror_mode": {
    "name": "ipython",
    "version": 3
   },
   "file_extension": ".py",
   "mimetype": "text/x-python",
   "name": "python",
   "nbconvert_exporter": "python",
   "pygments_lexer": "ipython3",
   "version": "3.9.13"
  }
 },
 "nbformat": 4,
 "nbformat_minor": 5
}
